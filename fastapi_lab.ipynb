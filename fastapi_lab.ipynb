{
  "cells": [
    {
      "cell_type": "markdown",
      "metadata": {
        "id": "view-in-github",
        "colab_type": "text"
      },
      "source": [
        "<a href=\"https://colab.research.google.com/github/gangulyajoy/AgentsAI/blob/main/fastapi_lab.ipynb\" target=\"_parent\"><img src=\"https://colab.research.google.com/assets/colab-badge.svg\" alt=\"Open In Colab\"/></a>"
      ]
    },
    {
      "cell_type": "markdown",
      "id": "1d6d9c11",
      "metadata": {
        "id": "1d6d9c11"
      },
      "source": [
        "# 🧪 Lab: Introduction to FastAPI\n",
        "\n",
        "## ✅ Objective:\n",
        "By the end of this lab, you will:\n",
        "- Set up a FastAPI environment\n",
        "- Create a simple REST API with GET and POST endpoints\n",
        "- Use Pydantic for data validation\n",
        "- Explore interactive API docs with Swagger UI"
      ]
    },
    {
      "cell_type": "markdown",
      "id": "9544ed2e",
      "metadata": {
        "id": "9544ed2e"
      },
      "source": [
        "## 🔧 Part 1: Environment Setup\n",
        "\n",
        "### Step 1: Create a virtual environment"
      ]
    },
    {
      "cell_type": "code",
      "execution_count": null,
      "id": "6067e97f",
      "metadata": {
        "id": "6067e97f"
      },
      "outputs": [],
      "source": [
        "python -m venv fastapi_lab_env\n",
        "source fastapi_lab_env/bin/activate  # On Windows: .\\fastapi_lab_env\\Scripts\\activate"
      ]
    },
    {
      "cell_type": "markdown",
      "id": "7c7bd3f2",
      "metadata": {
        "id": "7c7bd3f2"
      },
      "source": [
        "### Step 2: Install FastAPI and Uvicorn"
      ]
    },
    {
      "cell_type": "code",
      "execution_count": null,
      "id": "dfc2e7cc",
      "metadata": {
        "id": "dfc2e7cc"
      },
      "outputs": [],
      "source": [
        "pip install fastapi uvicorn"
      ]
    },
    {
      "cell_type": "markdown",
      "id": "cf91a9fe",
      "metadata": {
        "id": "cf91a9fe"
      },
      "source": [
        "## 🚀 Part 2: Your First FastAPI App\n",
        "\n",
        "### Step 1: Create a file `main.py`"
      ]
    },
    {
      "cell_type": "code",
      "execution_count": null,
      "id": "4b45de66",
      "metadata": {
        "id": "4b45de66"
      },
      "outputs": [],
      "source": [
        "from fastapi import FastAPI\n",
        "\n",
        "app = FastAPI()\n",
        "\n",
        "@app.get(\"/\")\n",
        "def read_root():\n",
        "    return {\"message\": \"Welcome to FastAPI!\"}"
      ]
    },
    {
      "cell_type": "markdown",
      "id": "404710a2",
      "metadata": {
        "id": "404710a2"
      },
      "source": [
        "### Step 2: Run the API"
      ]
    },
    {
      "cell_type": "code",
      "execution_count": null,
      "id": "ab615877",
      "metadata": {
        "id": "ab615877"
      },
      "outputs": [],
      "source": [
        "uvicorn main:app --reload"
      ]
    },
    {
      "cell_type": "markdown",
      "id": "82b0401d",
      "metadata": {
        "id": "82b0401d"
      },
      "source": [
        "- Visit: `http://127.0.0.1:8000/`\n",
        "- Visit Swagger UI: `http://127.0.0.1:8000/docs`\n",
        "- Visit ReDoc: `http://127.0.0.1:8000/redoc`"
      ]
    },
    {
      "cell_type": "markdown",
      "id": "4719aaf3",
      "metadata": {
        "id": "4719aaf3"
      },
      "source": [
        "## 📦 Part 3: Create a POST Endpoint with Validation"
      ]
    },
    {
      "cell_type": "code",
      "execution_count": null,
      "id": "eab5c4ce",
      "metadata": {
        "id": "eab5c4ce"
      },
      "outputs": [],
      "source": [
        "from pydantic import BaseModel\n",
        "\n",
        "class Item(BaseModel):\n",
        "    name: str\n",
        "    price: float\n",
        "    is_available: bool = True"
      ]
    },
    {
      "cell_type": "code",
      "execution_count": null,
      "id": "67a0cbae",
      "metadata": {
        "id": "67a0cbae"
      },
      "outputs": [],
      "source": [
        "@app.post(\"/items/\")\n",
        "def create_item(item: Item):\n",
        "    return {\"item\": item}"
      ]
    },
    {
      "cell_type": "markdown",
      "id": "385b98cb",
      "metadata": {
        "id": "385b98cb"
      },
      "source": [
        "Test it in Swagger UI with:\n",
        "```json\n",
        "{\n",
        "  \"name\": \"Laptop\",\n",
        "  \"price\": 999.99,\n",
        "  \"is_available\": true\n",
        "}\n",
        "```"
      ]
    },
    {
      "cell_type": "markdown",
      "id": "04fae0be",
      "metadata": {
        "id": "04fae0be"
      },
      "source": [
        "## 🔍 Part 4: Add Path and Query Parameters"
      ]
    },
    {
      "cell_type": "code",
      "execution_count": null,
      "id": "a2880dae",
      "metadata": {
        "id": "a2880dae"
      },
      "outputs": [],
      "source": [
        "@app.get(\"/items/{item_id}\")\n",
        "def read_item(item_id: int, q: str | None = None):\n",
        "    return {\"item_id\": item_id, \"query\": q}"
      ]
    },
    {
      "cell_type": "markdown",
      "id": "c34e44c6",
      "metadata": {
        "id": "c34e44c6"
      },
      "source": [
        "Try `/items/42?q=discounted` in browser."
      ]
    },
    {
      "cell_type": "markdown",
      "id": "6f4f74f9",
      "metadata": {
        "id": "6f4f74f9"
      },
      "source": [
        "## 🧩 Bonus: Add Dependency Injection (Optional)"
      ]
    },
    {
      "cell_type": "code",
      "execution_count": null,
      "id": "68fedb7d",
      "metadata": {
        "id": "68fedb7d"
      },
      "outputs": [],
      "source": [
        "from fastapi import Depends\n",
        "\n",
        "def get_token():\n",
        "    return \"secure-token\"\n",
        "\n",
        "@app.get(\"/secure-data\")\n",
        "def read_secure_data(token: str = Depends(get_token)):\n",
        "    return {\"access\": \"granted\", \"token\": token}"
      ]
    },
    {
      "cell_type": "markdown",
      "id": "a1595dd6",
      "metadata": {
        "id": "a1595dd6"
      },
      "source": [
        "## 🧪 Lab Summary Checklist\n",
        "| Task | Completed? |\n",
        "|------|------------|\n",
        "| Created and ran FastAPI app | ✅ |\n",
        "| Implemented GET and POST endpoints | ✅ |\n",
        "| Used Pydantic for data validation | ✅ |\n",
        "| Explored Swagger UI and ReDoc | ✅ |\n",
        "| Used path and query parameters | ✅ |"
      ]
    },
    {
      "cell_type": "markdown",
      "id": "c9f25af5",
      "metadata": {
        "id": "c9f25af5"
      },
      "source": [
        "## 📁 Folder Structure\n",
        "```\n",
        "fastapi-lab/\n",
        "├── main.py\n",
        "└── requirements.txt  # optional\n",
        "```\n",
        "\n",
        "`requirements.txt`:\n",
        "```\n",
        "fastapi\n",
        "uvicorn\n",
        "```"
      ]
    },
    {
      "cell_type": "markdown",
      "id": "994bc179",
      "metadata": {
        "id": "994bc179"
      },
      "source": [
        "## 📘 Additional Exercises\n",
        "1. Add `PUT /items/{item_id}` to update an item.\n",
        "2. Add a simple in-memory dictionary to store items.\n",
        "3. Add validation with constraints using `Field`."
      ]
    }
  ],
  "metadata": {
    "colab": {
      "provenance": [],
      "include_colab_link": true
    }
  },
  "nbformat": 4,
  "nbformat_minor": 5
}